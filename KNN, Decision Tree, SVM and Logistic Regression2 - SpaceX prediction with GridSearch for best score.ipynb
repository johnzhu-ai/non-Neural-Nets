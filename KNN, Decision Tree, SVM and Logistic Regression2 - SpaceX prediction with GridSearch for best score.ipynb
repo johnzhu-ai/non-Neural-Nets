{
 "cells": [
  {
   "cell_type": "markdown",
   "metadata": {},
   "source": [
    "# KNN, Decision Tree, SVM and Logistic Regression2\n",
    "## SpaceX prediction with GridSearch for best score \n"
   ]
  },
  {
   "cell_type": "markdown",
   "metadata": {},
   "source": [
    "SpaceX advertises 62 million-dollars for its Falcon9 rocket launches; other providers cost upward of 165+ million dollars each. This cost disparity is largely due to the fact that SpaceX can reuse the first stage. \n",
    "\n",
    "If we can determine SpaceX's successes, we can determine the cost of a launch. Such information is useful for competitive analysis at an alternate company who wishes to bid against SpaceX.  "
   ]
  },
  {
   "cell_type": "markdown",
   "metadata": {},
   "source": [
    "![](https://cf-courses-data.s3.us.cloud-object-storage.appdomain.cloud/IBMDeveloperSkillsNetwork-DS0701EN-SkillsNetwork/api/Images/landing\\_1.gif)\n"
   ]
  },
  {
   "cell_type": "markdown",
   "metadata": {},
   "source": [
    "For fun, example of an unsuccessful landing:\n"
   ]
  },
  {
   "cell_type": "markdown",
   "metadata": {},
   "source": [
    "![](https://cf-courses-data.s3.us.cloud-object-storage.appdomain.cloud/IBMDeveloperSkillsNetwork-DS0701EN-SkillsNetwork/api/Images/crash.gif)\n"
   ]
  },
  {
   "cell_type": "markdown",
   "metadata": {},
   "source": [
    "# Steps\n"
   ]
  },
  {
   "cell_type": "markdown",
   "metadata": {},
   "source": [
    "1. Perform exploratory  Data Analysis and determine Training Labels\n",
    "\n",
    "*   create a column for the class\n",
    "*   Standardize the data\n",
    "*   Split into training data and test data\n",
    "\n",
    "2. Work through Logistic Regression, SVM, Decision Tree and KNN, with GridSearch for find the best params\n",
    "\n",
    "3. Plot the performance to see which one perfomrs best\n"
   ]
  },
  {
   "cell_type": "markdown",
   "metadata": {},
   "source": [
    "***\n"
   ]
  },
  {
   "cell_type": "markdown",
   "metadata": {},
   "source": [
    "# 0. Libraries and Functions\n"
   ]
  },
  {
   "cell_type": "code",
   "execution_count": 1,
   "metadata": {},
   "outputs": [],
   "source": [
    "import pandas as pd\n",
    "import numpy as np\n",
    "import matplotlib.pyplot as plt\n",
    "import seaborn as sns\n",
    "\n",
    "from sklearn import preprocessing\n",
    "from sklearn.model_selection import train_test_split\n",
    "from sklearn.model_selection import GridSearchCV\n",
    "from sklearn.linear_model import LogisticRegression\n",
    "from sklearn.svm import SVC\n",
    "from sklearn.tree import DecisionTreeClassifier\n",
    "from sklearn.neighbors import KNeighborsClassifier"
   ]
  },
  {
   "cell_type": "markdown",
   "metadata": {},
   "source": [
    "Plotting Confusion-Matrix"
   ]
  },
  {
   "cell_type": "code",
   "execution_count": 2,
   "metadata": {},
   "outputs": [],
   "source": [
    "def plot_confusion_matrix(y,y_predict):\n",
    "    \"this function plots the confusion matrix\"\n",
    "    from sklearn.metrics import confusion_matrix\n",
    "\n",
    "    cm = confusion_matrix(y, y_predict)\n",
    "    ax= plt.subplot()\n",
    "    sns.heatmap(cm, annot=True, ax = ax); #annot=True to annotate cells\n",
    "    ax.set_xlabel('Predicted labels')\n",
    "    ax.set_ylabel('True labels')\n",
    "    ax.set_title('Confusion Matrix'); \n",
    "    ax.xaxis.set_ticklabels(['did not land', 'land']); ax.yaxis.set_ticklabels(['did not land', 'landed'])"
   ]
  },
  {
   "cell_type": "markdown",
   "metadata": {},
   "source": [
    "# 1. Load 2 sets of data"
   ]
  },
  {
   "cell_type": "code",
   "execution_count": 3,
   "metadata": {},
   "outputs": [
    {
     "data": {
      "text/html": [
       "<div>\n",
       "<style scoped>\n",
       "    .dataframe tbody tr th:only-of-type {\n",
       "        vertical-align: middle;\n",
       "    }\n",
       "\n",
       "    .dataframe tbody tr th {\n",
       "        vertical-align: top;\n",
       "    }\n",
       "\n",
       "    .dataframe thead th {\n",
       "        text-align: right;\n",
       "    }\n",
       "</style>\n",
       "<table border=\"1\" class=\"dataframe\">\n",
       "  <thead>\n",
       "    <tr style=\"text-align: right;\">\n",
       "      <th></th>\n",
       "      <th>FlightNumber</th>\n",
       "      <th>Date</th>\n",
       "      <th>BoosterVersion</th>\n",
       "      <th>PayloadMass</th>\n",
       "      <th>Orbit</th>\n",
       "      <th>LaunchSite</th>\n",
       "      <th>Outcome</th>\n",
       "      <th>Flights</th>\n",
       "      <th>GridFins</th>\n",
       "      <th>Reused</th>\n",
       "      <th>Legs</th>\n",
       "      <th>LandingPad</th>\n",
       "      <th>Block</th>\n",
       "      <th>ReusedCount</th>\n",
       "      <th>Serial</th>\n",
       "      <th>Longitude</th>\n",
       "      <th>Latitude</th>\n",
       "      <th>Class</th>\n",
       "    </tr>\n",
       "  </thead>\n",
       "  <tbody>\n",
       "    <tr>\n",
       "      <th>0</th>\n",
       "      <td>1</td>\n",
       "      <td>2010-06-04</td>\n",
       "      <td>Falcon 9</td>\n",
       "      <td>6104.959412</td>\n",
       "      <td>LEO</td>\n",
       "      <td>CCAFS SLC 40</td>\n",
       "      <td>None None</td>\n",
       "      <td>1</td>\n",
       "      <td>False</td>\n",
       "      <td>False</td>\n",
       "      <td>False</td>\n",
       "      <td>NaN</td>\n",
       "      <td>1.0</td>\n",
       "      <td>0</td>\n",
       "      <td>B0003</td>\n",
       "      <td>-80.577366</td>\n",
       "      <td>28.561857</td>\n",
       "      <td>0</td>\n",
       "    </tr>\n",
       "    <tr>\n",
       "      <th>1</th>\n",
       "      <td>2</td>\n",
       "      <td>2012-05-22</td>\n",
       "      <td>Falcon 9</td>\n",
       "      <td>525.000000</td>\n",
       "      <td>LEO</td>\n",
       "      <td>CCAFS SLC 40</td>\n",
       "      <td>None None</td>\n",
       "      <td>1</td>\n",
       "      <td>False</td>\n",
       "      <td>False</td>\n",
       "      <td>False</td>\n",
       "      <td>NaN</td>\n",
       "      <td>1.0</td>\n",
       "      <td>0</td>\n",
       "      <td>B0005</td>\n",
       "      <td>-80.577366</td>\n",
       "      <td>28.561857</td>\n",
       "      <td>0</td>\n",
       "    </tr>\n",
       "    <tr>\n",
       "      <th>2</th>\n",
       "      <td>3</td>\n",
       "      <td>2013-03-01</td>\n",
       "      <td>Falcon 9</td>\n",
       "      <td>677.000000</td>\n",
       "      <td>ISS</td>\n",
       "      <td>CCAFS SLC 40</td>\n",
       "      <td>None None</td>\n",
       "      <td>1</td>\n",
       "      <td>False</td>\n",
       "      <td>False</td>\n",
       "      <td>False</td>\n",
       "      <td>NaN</td>\n",
       "      <td>1.0</td>\n",
       "      <td>0</td>\n",
       "      <td>B0007</td>\n",
       "      <td>-80.577366</td>\n",
       "      <td>28.561857</td>\n",
       "      <td>0</td>\n",
       "    </tr>\n",
       "    <tr>\n",
       "      <th>3</th>\n",
       "      <td>4</td>\n",
       "      <td>2013-09-29</td>\n",
       "      <td>Falcon 9</td>\n",
       "      <td>500.000000</td>\n",
       "      <td>PO</td>\n",
       "      <td>VAFB SLC 4E</td>\n",
       "      <td>False Ocean</td>\n",
       "      <td>1</td>\n",
       "      <td>False</td>\n",
       "      <td>False</td>\n",
       "      <td>False</td>\n",
       "      <td>NaN</td>\n",
       "      <td>1.0</td>\n",
       "      <td>0</td>\n",
       "      <td>B1003</td>\n",
       "      <td>-120.610829</td>\n",
       "      <td>34.632093</td>\n",
       "      <td>0</td>\n",
       "    </tr>\n",
       "    <tr>\n",
       "      <th>4</th>\n",
       "      <td>5</td>\n",
       "      <td>2013-12-03</td>\n",
       "      <td>Falcon 9</td>\n",
       "      <td>3170.000000</td>\n",
       "      <td>GTO</td>\n",
       "      <td>CCAFS SLC 40</td>\n",
       "      <td>None None</td>\n",
       "      <td>1</td>\n",
       "      <td>False</td>\n",
       "      <td>False</td>\n",
       "      <td>False</td>\n",
       "      <td>NaN</td>\n",
       "      <td>1.0</td>\n",
       "      <td>0</td>\n",
       "      <td>B1004</td>\n",
       "      <td>-80.577366</td>\n",
       "      <td>28.561857</td>\n",
       "      <td>0</td>\n",
       "    </tr>\n",
       "  </tbody>\n",
       "</table>\n",
       "</div>"
      ],
      "text/plain": [
       "   FlightNumber        Date BoosterVersion  PayloadMass Orbit    LaunchSite  \\\n",
       "0             1  2010-06-04       Falcon 9  6104.959412   LEO  CCAFS SLC 40   \n",
       "1             2  2012-05-22       Falcon 9   525.000000   LEO  CCAFS SLC 40   \n",
       "2             3  2013-03-01       Falcon 9   677.000000   ISS  CCAFS SLC 40   \n",
       "3             4  2013-09-29       Falcon 9   500.000000    PO   VAFB SLC 4E   \n",
       "4             5  2013-12-03       Falcon 9  3170.000000   GTO  CCAFS SLC 40   \n",
       "\n",
       "       Outcome  Flights  GridFins  Reused   Legs LandingPad  Block  \\\n",
       "0    None None        1     False   False  False        NaN    1.0   \n",
       "1    None None        1     False   False  False        NaN    1.0   \n",
       "2    None None        1     False   False  False        NaN    1.0   \n",
       "3  False Ocean        1     False   False  False        NaN    1.0   \n",
       "4    None None        1     False   False  False        NaN    1.0   \n",
       "\n",
       "   ReusedCount Serial   Longitude   Latitude  Class  \n",
       "0            0  B0003  -80.577366  28.561857      0  \n",
       "1            0  B0005  -80.577366  28.561857      0  \n",
       "2            0  B0007  -80.577366  28.561857      0  \n",
       "3            0  B1003 -120.610829  34.632093      0  \n",
       "4            0  B1004  -80.577366  28.561857      0  "
      ]
     },
     "execution_count": 3,
     "metadata": {},
     "output_type": "execute_result"
    }
   ],
   "source": [
    "data = pd.read_csv(\"SpaceX dataset1.csv\")\n",
    "data.head()"
   ]
  },
  {
   "cell_type": "code",
   "execution_count": 4,
   "metadata": {},
   "outputs": [
    {
     "data": {
      "text/html": [
       "<div>\n",
       "<style scoped>\n",
       "    .dataframe tbody tr th:only-of-type {\n",
       "        vertical-align: middle;\n",
       "    }\n",
       "\n",
       "    .dataframe tbody tr th {\n",
       "        vertical-align: top;\n",
       "    }\n",
       "\n",
       "    .dataframe thead th {\n",
       "        text-align: right;\n",
       "    }\n",
       "</style>\n",
       "<table border=\"1\" class=\"dataframe\">\n",
       "  <thead>\n",
       "    <tr style=\"text-align: right;\">\n",
       "      <th></th>\n",
       "      <th>FlightNumber</th>\n",
       "      <th>PayloadMass</th>\n",
       "      <th>Flights</th>\n",
       "      <th>Block</th>\n",
       "      <th>ReusedCount</th>\n",
       "      <th>Orbit_ES-L1</th>\n",
       "      <th>Orbit_GEO</th>\n",
       "      <th>Orbit_GTO</th>\n",
       "      <th>Orbit_HEO</th>\n",
       "      <th>Orbit_ISS</th>\n",
       "      <th>...</th>\n",
       "      <th>Serial_B1058</th>\n",
       "      <th>Serial_B1059</th>\n",
       "      <th>Serial_B1060</th>\n",
       "      <th>Serial_B1062</th>\n",
       "      <th>GridFins_False</th>\n",
       "      <th>GridFins_True</th>\n",
       "      <th>Reused_False</th>\n",
       "      <th>Reused_True</th>\n",
       "      <th>Legs_False</th>\n",
       "      <th>Legs_True</th>\n",
       "    </tr>\n",
       "  </thead>\n",
       "  <tbody>\n",
       "    <tr>\n",
       "      <th>0</th>\n",
       "      <td>1.0</td>\n",
       "      <td>6104.959412</td>\n",
       "      <td>1.0</td>\n",
       "      <td>1.0</td>\n",
       "      <td>0.0</td>\n",
       "      <td>0.0</td>\n",
       "      <td>0.0</td>\n",
       "      <td>0.0</td>\n",
       "      <td>0.0</td>\n",
       "      <td>0.0</td>\n",
       "      <td>...</td>\n",
       "      <td>0.0</td>\n",
       "      <td>0.0</td>\n",
       "      <td>0.0</td>\n",
       "      <td>0.0</td>\n",
       "      <td>1.0</td>\n",
       "      <td>0.0</td>\n",
       "      <td>1.0</td>\n",
       "      <td>0.0</td>\n",
       "      <td>1.0</td>\n",
       "      <td>0.0</td>\n",
       "    </tr>\n",
       "    <tr>\n",
       "      <th>1</th>\n",
       "      <td>2.0</td>\n",
       "      <td>525.000000</td>\n",
       "      <td>1.0</td>\n",
       "      <td>1.0</td>\n",
       "      <td>0.0</td>\n",
       "      <td>0.0</td>\n",
       "      <td>0.0</td>\n",
       "      <td>0.0</td>\n",
       "      <td>0.0</td>\n",
       "      <td>0.0</td>\n",
       "      <td>...</td>\n",
       "      <td>0.0</td>\n",
       "      <td>0.0</td>\n",
       "      <td>0.0</td>\n",
       "      <td>0.0</td>\n",
       "      <td>1.0</td>\n",
       "      <td>0.0</td>\n",
       "      <td>1.0</td>\n",
       "      <td>0.0</td>\n",
       "      <td>1.0</td>\n",
       "      <td>0.0</td>\n",
       "    </tr>\n",
       "    <tr>\n",
       "      <th>2</th>\n",
       "      <td>3.0</td>\n",
       "      <td>677.000000</td>\n",
       "      <td>1.0</td>\n",
       "      <td>1.0</td>\n",
       "      <td>0.0</td>\n",
       "      <td>0.0</td>\n",
       "      <td>0.0</td>\n",
       "      <td>0.0</td>\n",
       "      <td>0.0</td>\n",
       "      <td>1.0</td>\n",
       "      <td>...</td>\n",
       "      <td>0.0</td>\n",
       "      <td>0.0</td>\n",
       "      <td>0.0</td>\n",
       "      <td>0.0</td>\n",
       "      <td>1.0</td>\n",
       "      <td>0.0</td>\n",
       "      <td>1.0</td>\n",
       "      <td>0.0</td>\n",
       "      <td>1.0</td>\n",
       "      <td>0.0</td>\n",
       "    </tr>\n",
       "    <tr>\n",
       "      <th>3</th>\n",
       "      <td>4.0</td>\n",
       "      <td>500.000000</td>\n",
       "      <td>1.0</td>\n",
       "      <td>1.0</td>\n",
       "      <td>0.0</td>\n",
       "      <td>0.0</td>\n",
       "      <td>0.0</td>\n",
       "      <td>0.0</td>\n",
       "      <td>0.0</td>\n",
       "      <td>0.0</td>\n",
       "      <td>...</td>\n",
       "      <td>0.0</td>\n",
       "      <td>0.0</td>\n",
       "      <td>0.0</td>\n",
       "      <td>0.0</td>\n",
       "      <td>1.0</td>\n",
       "      <td>0.0</td>\n",
       "      <td>1.0</td>\n",
       "      <td>0.0</td>\n",
       "      <td>1.0</td>\n",
       "      <td>0.0</td>\n",
       "    </tr>\n",
       "    <tr>\n",
       "      <th>4</th>\n",
       "      <td>5.0</td>\n",
       "      <td>3170.000000</td>\n",
       "      <td>1.0</td>\n",
       "      <td>1.0</td>\n",
       "      <td>0.0</td>\n",
       "      <td>0.0</td>\n",
       "      <td>0.0</td>\n",
       "      <td>1.0</td>\n",
       "      <td>0.0</td>\n",
       "      <td>0.0</td>\n",
       "      <td>...</td>\n",
       "      <td>0.0</td>\n",
       "      <td>0.0</td>\n",
       "      <td>0.0</td>\n",
       "      <td>0.0</td>\n",
       "      <td>1.0</td>\n",
       "      <td>0.0</td>\n",
       "      <td>1.0</td>\n",
       "      <td>0.0</td>\n",
       "      <td>1.0</td>\n",
       "      <td>0.0</td>\n",
       "    </tr>\n",
       "    <tr>\n",
       "      <th>5</th>\n",
       "      <td>6.0</td>\n",
       "      <td>3325.000000</td>\n",
       "      <td>1.0</td>\n",
       "      <td>1.0</td>\n",
       "      <td>0.0</td>\n",
       "      <td>0.0</td>\n",
       "      <td>0.0</td>\n",
       "      <td>1.0</td>\n",
       "      <td>0.0</td>\n",
       "      <td>0.0</td>\n",
       "      <td>...</td>\n",
       "      <td>0.0</td>\n",
       "      <td>0.0</td>\n",
       "      <td>0.0</td>\n",
       "      <td>0.0</td>\n",
       "      <td>1.0</td>\n",
       "      <td>0.0</td>\n",
       "      <td>1.0</td>\n",
       "      <td>0.0</td>\n",
       "      <td>1.0</td>\n",
       "      <td>0.0</td>\n",
       "    </tr>\n",
       "    <tr>\n",
       "      <th>6</th>\n",
       "      <td>7.0</td>\n",
       "      <td>2296.000000</td>\n",
       "      <td>1.0</td>\n",
       "      <td>1.0</td>\n",
       "      <td>0.0</td>\n",
       "      <td>0.0</td>\n",
       "      <td>0.0</td>\n",
       "      <td>0.0</td>\n",
       "      <td>0.0</td>\n",
       "      <td>1.0</td>\n",
       "      <td>...</td>\n",
       "      <td>0.0</td>\n",
       "      <td>0.0</td>\n",
       "      <td>0.0</td>\n",
       "      <td>0.0</td>\n",
       "      <td>1.0</td>\n",
       "      <td>0.0</td>\n",
       "      <td>1.0</td>\n",
       "      <td>0.0</td>\n",
       "      <td>0.0</td>\n",
       "      <td>1.0</td>\n",
       "    </tr>\n",
       "    <tr>\n",
       "      <th>7</th>\n",
       "      <td>8.0</td>\n",
       "      <td>1316.000000</td>\n",
       "      <td>1.0</td>\n",
       "      <td>1.0</td>\n",
       "      <td>0.0</td>\n",
       "      <td>0.0</td>\n",
       "      <td>0.0</td>\n",
       "      <td>0.0</td>\n",
       "      <td>0.0</td>\n",
       "      <td>0.0</td>\n",
       "      <td>...</td>\n",
       "      <td>0.0</td>\n",
       "      <td>0.0</td>\n",
       "      <td>0.0</td>\n",
       "      <td>0.0</td>\n",
       "      <td>1.0</td>\n",
       "      <td>0.0</td>\n",
       "      <td>1.0</td>\n",
       "      <td>0.0</td>\n",
       "      <td>0.0</td>\n",
       "      <td>1.0</td>\n",
       "    </tr>\n",
       "    <tr>\n",
       "      <th>8</th>\n",
       "      <td>9.0</td>\n",
       "      <td>4535.000000</td>\n",
       "      <td>1.0</td>\n",
       "      <td>1.0</td>\n",
       "      <td>0.0</td>\n",
       "      <td>0.0</td>\n",
       "      <td>0.0</td>\n",
       "      <td>1.0</td>\n",
       "      <td>0.0</td>\n",
       "      <td>0.0</td>\n",
       "      <td>...</td>\n",
       "      <td>0.0</td>\n",
       "      <td>0.0</td>\n",
       "      <td>0.0</td>\n",
       "      <td>0.0</td>\n",
       "      <td>1.0</td>\n",
       "      <td>0.0</td>\n",
       "      <td>1.0</td>\n",
       "      <td>0.0</td>\n",
       "      <td>1.0</td>\n",
       "      <td>0.0</td>\n",
       "    </tr>\n",
       "    <tr>\n",
       "      <th>9</th>\n",
       "      <td>10.0</td>\n",
       "      <td>4428.000000</td>\n",
       "      <td>1.0</td>\n",
       "      <td>1.0</td>\n",
       "      <td>0.0</td>\n",
       "      <td>0.0</td>\n",
       "      <td>0.0</td>\n",
       "      <td>1.0</td>\n",
       "      <td>0.0</td>\n",
       "      <td>0.0</td>\n",
       "      <td>...</td>\n",
       "      <td>0.0</td>\n",
       "      <td>0.0</td>\n",
       "      <td>0.0</td>\n",
       "      <td>0.0</td>\n",
       "      <td>1.0</td>\n",
       "      <td>0.0</td>\n",
       "      <td>1.0</td>\n",
       "      <td>0.0</td>\n",
       "      <td>1.0</td>\n",
       "      <td>0.0</td>\n",
       "    </tr>\n",
       "    <tr>\n",
       "      <th>10</th>\n",
       "      <td>11.0</td>\n",
       "      <td>2216.000000</td>\n",
       "      <td>1.0</td>\n",
       "      <td>1.0</td>\n",
       "      <td>0.0</td>\n",
       "      <td>0.0</td>\n",
       "      <td>0.0</td>\n",
       "      <td>0.0</td>\n",
       "      <td>0.0</td>\n",
       "      <td>1.0</td>\n",
       "      <td>...</td>\n",
       "      <td>0.0</td>\n",
       "      <td>0.0</td>\n",
       "      <td>0.0</td>\n",
       "      <td>0.0</td>\n",
       "      <td>1.0</td>\n",
       "      <td>0.0</td>\n",
       "      <td>1.0</td>\n",
       "      <td>0.0</td>\n",
       "      <td>1.0</td>\n",
       "      <td>0.0</td>\n",
       "    </tr>\n",
       "    <tr>\n",
       "      <th>11</th>\n",
       "      <td>12.0</td>\n",
       "      <td>2395.000000</td>\n",
       "      <td>1.0</td>\n",
       "      <td>1.0</td>\n",
       "      <td>0.0</td>\n",
       "      <td>0.0</td>\n",
       "      <td>0.0</td>\n",
       "      <td>0.0</td>\n",
       "      <td>0.0</td>\n",
       "      <td>1.0</td>\n",
       "      <td>...</td>\n",
       "      <td>0.0</td>\n",
       "      <td>0.0</td>\n",
       "      <td>0.0</td>\n",
       "      <td>0.0</td>\n",
       "      <td>0.0</td>\n",
       "      <td>1.0</td>\n",
       "      <td>1.0</td>\n",
       "      <td>0.0</td>\n",
       "      <td>0.0</td>\n",
       "      <td>1.0</td>\n",
       "    </tr>\n",
       "    <tr>\n",
       "      <th>12</th>\n",
       "      <td>13.0</td>\n",
       "      <td>570.000000</td>\n",
       "      <td>1.0</td>\n",
       "      <td>1.0</td>\n",
       "      <td>0.0</td>\n",
       "      <td>1.0</td>\n",
       "      <td>0.0</td>\n",
       "      <td>0.0</td>\n",
       "      <td>0.0</td>\n",
       "      <td>0.0</td>\n",
       "      <td>...</td>\n",
       "      <td>0.0</td>\n",
       "      <td>0.0</td>\n",
       "      <td>0.0</td>\n",
       "      <td>0.0</td>\n",
       "      <td>0.0</td>\n",
       "      <td>1.0</td>\n",
       "      <td>1.0</td>\n",
       "      <td>0.0</td>\n",
       "      <td>0.0</td>\n",
       "      <td>1.0</td>\n",
       "    </tr>\n",
       "    <tr>\n",
       "      <th>13</th>\n",
       "      <td>14.0</td>\n",
       "      <td>1898.000000</td>\n",
       "      <td>1.0</td>\n",
       "      <td>1.0</td>\n",
       "      <td>0.0</td>\n",
       "      <td>0.0</td>\n",
       "      <td>0.0</td>\n",
       "      <td>0.0</td>\n",
       "      <td>0.0</td>\n",
       "      <td>1.0</td>\n",
       "      <td>...</td>\n",
       "      <td>0.0</td>\n",
       "      <td>0.0</td>\n",
       "      <td>0.0</td>\n",
       "      <td>0.0</td>\n",
       "      <td>0.0</td>\n",
       "      <td>1.0</td>\n",
       "      <td>1.0</td>\n",
       "      <td>0.0</td>\n",
       "      <td>0.0</td>\n",
       "      <td>1.0</td>\n",
       "    </tr>\n",
       "    <tr>\n",
       "      <th>14</th>\n",
       "      <td>15.0</td>\n",
       "      <td>4707.000000</td>\n",
       "      <td>1.0</td>\n",
       "      <td>1.0</td>\n",
       "      <td>0.0</td>\n",
       "      <td>0.0</td>\n",
       "      <td>0.0</td>\n",
       "      <td>1.0</td>\n",
       "      <td>0.0</td>\n",
       "      <td>0.0</td>\n",
       "      <td>...</td>\n",
       "      <td>0.0</td>\n",
       "      <td>0.0</td>\n",
       "      <td>0.0</td>\n",
       "      <td>0.0</td>\n",
       "      <td>1.0</td>\n",
       "      <td>0.0</td>\n",
       "      <td>1.0</td>\n",
       "      <td>0.0</td>\n",
       "      <td>1.0</td>\n",
       "      <td>0.0</td>\n",
       "    </tr>\n",
       "    <tr>\n",
       "      <th>15</th>\n",
       "      <td>16.0</td>\n",
       "      <td>2477.000000</td>\n",
       "      <td>1.0</td>\n",
       "      <td>1.0</td>\n",
       "      <td>0.0</td>\n",
       "      <td>0.0</td>\n",
       "      <td>0.0</td>\n",
       "      <td>0.0</td>\n",
       "      <td>0.0</td>\n",
       "      <td>1.0</td>\n",
       "      <td>...</td>\n",
       "      <td>0.0</td>\n",
       "      <td>0.0</td>\n",
       "      <td>0.0</td>\n",
       "      <td>0.0</td>\n",
       "      <td>0.0</td>\n",
       "      <td>1.0</td>\n",
       "      <td>1.0</td>\n",
       "      <td>0.0</td>\n",
       "      <td>0.0</td>\n",
       "      <td>1.0</td>\n",
       "    </tr>\n",
       "    <tr>\n",
       "      <th>16</th>\n",
       "      <td>17.0</td>\n",
       "      <td>2034.000000</td>\n",
       "      <td>1.0</td>\n",
       "      <td>1.0</td>\n",
       "      <td>0.0</td>\n",
       "      <td>0.0</td>\n",
       "      <td>0.0</td>\n",
       "      <td>0.0</td>\n",
       "      <td>0.0</td>\n",
       "      <td>0.0</td>\n",
       "      <td>...</td>\n",
       "      <td>0.0</td>\n",
       "      <td>0.0</td>\n",
       "      <td>0.0</td>\n",
       "      <td>0.0</td>\n",
       "      <td>0.0</td>\n",
       "      <td>1.0</td>\n",
       "      <td>1.0</td>\n",
       "      <td>0.0</td>\n",
       "      <td>0.0</td>\n",
       "      <td>1.0</td>\n",
       "    </tr>\n",
       "    <tr>\n",
       "      <th>17</th>\n",
       "      <td>18.0</td>\n",
       "      <td>553.000000</td>\n",
       "      <td>1.0</td>\n",
       "      <td>1.0</td>\n",
       "      <td>0.0</td>\n",
       "      <td>0.0</td>\n",
       "      <td>0.0</td>\n",
       "      <td>0.0</td>\n",
       "      <td>0.0</td>\n",
       "      <td>0.0</td>\n",
       "      <td>...</td>\n",
       "      <td>0.0</td>\n",
       "      <td>0.0</td>\n",
       "      <td>0.0</td>\n",
       "      <td>0.0</td>\n",
       "      <td>0.0</td>\n",
       "      <td>1.0</td>\n",
       "      <td>1.0</td>\n",
       "      <td>0.0</td>\n",
       "      <td>0.0</td>\n",
       "      <td>1.0</td>\n",
       "    </tr>\n",
       "    <tr>\n",
       "      <th>18</th>\n",
       "      <td>19.0</td>\n",
       "      <td>5271.000000</td>\n",
       "      <td>1.0</td>\n",
       "      <td>1.0</td>\n",
       "      <td>0.0</td>\n",
       "      <td>0.0</td>\n",
       "      <td>0.0</td>\n",
       "      <td>1.0</td>\n",
       "      <td>0.0</td>\n",
       "      <td>0.0</td>\n",
       "      <td>...</td>\n",
       "      <td>0.0</td>\n",
       "      <td>0.0</td>\n",
       "      <td>0.0</td>\n",
       "      <td>0.0</td>\n",
       "      <td>0.0</td>\n",
       "      <td>1.0</td>\n",
       "      <td>1.0</td>\n",
       "      <td>0.0</td>\n",
       "      <td>0.0</td>\n",
       "      <td>1.0</td>\n",
       "    </tr>\n",
       "    <tr>\n",
       "      <th>19</th>\n",
       "      <td>20.0</td>\n",
       "      <td>3136.000000</td>\n",
       "      <td>1.0</td>\n",
       "      <td>2.0</td>\n",
       "      <td>1.0</td>\n",
       "      <td>0.0</td>\n",
       "      <td>0.0</td>\n",
       "      <td>0.0</td>\n",
       "      <td>0.0</td>\n",
       "      <td>1.0</td>\n",
       "      <td>...</td>\n",
       "      <td>0.0</td>\n",
       "      <td>0.0</td>\n",
       "      <td>0.0</td>\n",
       "      <td>0.0</td>\n",
       "      <td>0.0</td>\n",
       "      <td>1.0</td>\n",
       "      <td>1.0</td>\n",
       "      <td>0.0</td>\n",
       "      <td>0.0</td>\n",
       "      <td>1.0</td>\n",
       "    </tr>\n",
       "  </tbody>\n",
       "</table>\n",
       "<p>20 rows × 83 columns</p>\n",
       "</div>"
      ],
      "text/plain": [
       "    FlightNumber  PayloadMass  Flights  Block  ReusedCount  Orbit_ES-L1  \\\n",
       "0            1.0  6104.959412      1.0    1.0          0.0          0.0   \n",
       "1            2.0   525.000000      1.0    1.0          0.0          0.0   \n",
       "2            3.0   677.000000      1.0    1.0          0.0          0.0   \n",
       "3            4.0   500.000000      1.0    1.0          0.0          0.0   \n",
       "4            5.0  3170.000000      1.0    1.0          0.0          0.0   \n",
       "5            6.0  3325.000000      1.0    1.0          0.0          0.0   \n",
       "6            7.0  2296.000000      1.0    1.0          0.0          0.0   \n",
       "7            8.0  1316.000000      1.0    1.0          0.0          0.0   \n",
       "8            9.0  4535.000000      1.0    1.0          0.0          0.0   \n",
       "9           10.0  4428.000000      1.0    1.0          0.0          0.0   \n",
       "10          11.0  2216.000000      1.0    1.0          0.0          0.0   \n",
       "11          12.0  2395.000000      1.0    1.0          0.0          0.0   \n",
       "12          13.0   570.000000      1.0    1.0          0.0          1.0   \n",
       "13          14.0  1898.000000      1.0    1.0          0.0          0.0   \n",
       "14          15.0  4707.000000      1.0    1.0          0.0          0.0   \n",
       "15          16.0  2477.000000      1.0    1.0          0.0          0.0   \n",
       "16          17.0  2034.000000      1.0    1.0          0.0          0.0   \n",
       "17          18.0   553.000000      1.0    1.0          0.0          0.0   \n",
       "18          19.0  5271.000000      1.0    1.0          0.0          0.0   \n",
       "19          20.0  3136.000000      1.0    2.0          1.0          0.0   \n",
       "\n",
       "    Orbit_GEO  Orbit_GTO  Orbit_HEO  Orbit_ISS  ...  Serial_B1058  \\\n",
       "0         0.0        0.0        0.0        0.0  ...           0.0   \n",
       "1         0.0        0.0        0.0        0.0  ...           0.0   \n",
       "2         0.0        0.0        0.0        1.0  ...           0.0   \n",
       "3         0.0        0.0        0.0        0.0  ...           0.0   \n",
       "4         0.0        1.0        0.0        0.0  ...           0.0   \n",
       "5         0.0        1.0        0.0        0.0  ...           0.0   \n",
       "6         0.0        0.0        0.0        1.0  ...           0.0   \n",
       "7         0.0        0.0        0.0        0.0  ...           0.0   \n",
       "8         0.0        1.0        0.0        0.0  ...           0.0   \n",
       "9         0.0        1.0        0.0        0.0  ...           0.0   \n",
       "10        0.0        0.0        0.0        1.0  ...           0.0   \n",
       "11        0.0        0.0        0.0        1.0  ...           0.0   \n",
       "12        0.0        0.0        0.0        0.0  ...           0.0   \n",
       "13        0.0        0.0        0.0        1.0  ...           0.0   \n",
       "14        0.0        1.0        0.0        0.0  ...           0.0   \n",
       "15        0.0        0.0        0.0        1.0  ...           0.0   \n",
       "16        0.0        0.0        0.0        0.0  ...           0.0   \n",
       "17        0.0        0.0        0.0        0.0  ...           0.0   \n",
       "18        0.0        1.0        0.0        0.0  ...           0.0   \n",
       "19        0.0        0.0        0.0        1.0  ...           0.0   \n",
       "\n",
       "    Serial_B1059  Serial_B1060  Serial_B1062  GridFins_False  GridFins_True  \\\n",
       "0            0.0           0.0           0.0             1.0            0.0   \n",
       "1            0.0           0.0           0.0             1.0            0.0   \n",
       "2            0.0           0.0           0.0             1.0            0.0   \n",
       "3            0.0           0.0           0.0             1.0            0.0   \n",
       "4            0.0           0.0           0.0             1.0            0.0   \n",
       "5            0.0           0.0           0.0             1.0            0.0   \n",
       "6            0.0           0.0           0.0             1.0            0.0   \n",
       "7            0.0           0.0           0.0             1.0            0.0   \n",
       "8            0.0           0.0           0.0             1.0            0.0   \n",
       "9            0.0           0.0           0.0             1.0            0.0   \n",
       "10           0.0           0.0           0.0             1.0            0.0   \n",
       "11           0.0           0.0           0.0             0.0            1.0   \n",
       "12           0.0           0.0           0.0             0.0            1.0   \n",
       "13           0.0           0.0           0.0             0.0            1.0   \n",
       "14           0.0           0.0           0.0             1.0            0.0   \n",
       "15           0.0           0.0           0.0             0.0            1.0   \n",
       "16           0.0           0.0           0.0             0.0            1.0   \n",
       "17           0.0           0.0           0.0             0.0            1.0   \n",
       "18           0.0           0.0           0.0             0.0            1.0   \n",
       "19           0.0           0.0           0.0             0.0            1.0   \n",
       "\n",
       "    Reused_False  Reused_True  Legs_False  Legs_True  \n",
       "0            1.0          0.0         1.0        0.0  \n",
       "1            1.0          0.0         1.0        0.0  \n",
       "2            1.0          0.0         1.0        0.0  \n",
       "3            1.0          0.0         1.0        0.0  \n",
       "4            1.0          0.0         1.0        0.0  \n",
       "5            1.0          0.0         1.0        0.0  \n",
       "6            1.0          0.0         0.0        1.0  \n",
       "7            1.0          0.0         0.0        1.0  \n",
       "8            1.0          0.0         1.0        0.0  \n",
       "9            1.0          0.0         1.0        0.0  \n",
       "10           1.0          0.0         1.0        0.0  \n",
       "11           1.0          0.0         0.0        1.0  \n",
       "12           1.0          0.0         0.0        1.0  \n",
       "13           1.0          0.0         0.0        1.0  \n",
       "14           1.0          0.0         1.0        0.0  \n",
       "15           1.0          0.0         0.0        1.0  \n",
       "16           1.0          0.0         0.0        1.0  \n",
       "17           1.0          0.0         0.0        1.0  \n",
       "18           1.0          0.0         0.0        1.0  \n",
       "19           1.0          0.0         0.0        1.0  \n",
       "\n",
       "[20 rows x 83 columns]"
      ]
     },
     "execution_count": 4,
     "metadata": {},
     "output_type": "execute_result"
    }
   ],
   "source": [
    "X = pd.read_csv(\"SpaceX dataset2.csv\")\n",
    "X.head(20)"
   ]
  },
  {
   "cell_type": "markdown",
   "metadata": {},
   "source": [
    "## 1.1. Prepare X, Y data\n"
   ]
  },
  {
   "cell_type": "markdown",
   "metadata": {},
   "source": [
    "Standardize the data in <code>X</code> then reassign it to the variable  <code>X</code>."
   ]
  },
  {
   "cell_type": "code",
   "execution_count": 5,
   "metadata": {},
   "outputs": [
    {
     "data": {
      "text/plain": [
       "array([[-1.71291154e+00, -1.94814463e-16, -6.53912840e-01,\n",
       "        -1.57589457e+00, -9.73440458e-01, -1.05999788e-01,\n",
       "        -1.05999788e-01, -6.54653671e-01, -1.05999788e-01,\n",
       "        -5.51677284e-01,  3.44342023e+00, -1.85695338e-01,\n",
       "        -3.33333333e-01, -1.05999788e-01, -2.42535625e-01,\n",
       "        -4.29197538e-01,  7.97724035e-01, -5.68796459e-01,\n",
       "        -4.10890702e-01, -4.10890702e-01, -1.50755672e-01,\n",
       "        -7.97724035e-01, -1.50755672e-01, -3.92232270e-01,\n",
       "         9.43398113e+00, -1.05999788e-01, -1.05999788e-01,\n",
       "        -1.05999788e-01, -1.05999788e-01, -1.05999788e-01,\n",
       "        -1.05999788e-01, -1.05999788e-01, -1.05999788e-01,\n",
       "        -1.05999788e-01, -1.05999788e-01, -1.05999788e-01,\n",
       "        -1.05999788e-01, -1.05999788e-01, -1.05999788e-01,\n",
       "        -1.05999788e-01, -1.05999788e-01, -1.05999788e-01,\n",
       "        -1.05999788e-01, -1.50755672e-01, -1.05999788e-01,\n",
       "        -1.05999788e-01, -1.05999788e-01, -1.05999788e-01,\n",
       "        -1.05999788e-01, -1.50755672e-01, -1.05999788e-01,\n",
       "        -1.50755672e-01, -1.50755672e-01, -1.05999788e-01,\n",
       "        -1.50755672e-01, -1.50755672e-01, -1.05999788e-01,\n",
       "        -1.05999788e-01, -1.50755672e-01, -1.50755672e-01,\n",
       "        -1.50755672e-01, -1.05999788e-01, -1.05999788e-01,\n",
       "        -1.05999788e-01, -1.50755672e-01, -2.15665546e-01,\n",
       "        -1.85695338e-01, -2.15665546e-01, -2.67261242e-01,\n",
       "        -1.05999788e-01, -2.42535625e-01, -1.05999788e-01,\n",
       "        -2.15665546e-01, -1.85695338e-01, -2.15665546e-01,\n",
       "        -1.85695338e-01, -1.05999788e-01,  1.87082869e+00,\n",
       "        -1.87082869e+00,  8.35531692e-01, -8.35531692e-01,\n",
       "         1.93309133e+00, -1.93309133e+00],\n",
       "       [-1.67441914e+00, -1.19523159e+00, -6.53912840e-01,\n",
       "        -1.57589457e+00, -9.73440458e-01, -1.05999788e-01,\n",
       "        -1.05999788e-01, -6.54653671e-01, -1.05999788e-01,\n",
       "        -5.51677284e-01,  3.44342023e+00, -1.85695338e-01,\n",
       "        -3.33333333e-01, -1.05999788e-01, -2.42535625e-01,\n",
       "        -4.29197538e-01,  7.97724035e-01, -5.68796459e-01,\n",
       "        -4.10890702e-01, -4.10890702e-01, -1.50755672e-01,\n",
       "        -7.97724035e-01, -1.50755672e-01, -3.92232270e-01,\n",
       "        -1.05999788e-01,  9.43398113e+00, -1.05999788e-01,\n",
       "        -1.05999788e-01, -1.05999788e-01, -1.05999788e-01,\n",
       "        -1.05999788e-01, -1.05999788e-01, -1.05999788e-01,\n",
       "        -1.05999788e-01, -1.05999788e-01, -1.05999788e-01,\n",
       "        -1.05999788e-01, -1.05999788e-01, -1.05999788e-01,\n",
       "        -1.05999788e-01, -1.05999788e-01, -1.05999788e-01,\n",
       "        -1.05999788e-01, -1.50755672e-01, -1.05999788e-01,\n",
       "        -1.05999788e-01, -1.05999788e-01, -1.05999788e-01,\n",
       "        -1.05999788e-01, -1.50755672e-01, -1.05999788e-01,\n",
       "        -1.50755672e-01, -1.50755672e-01, -1.05999788e-01,\n",
       "        -1.50755672e-01, -1.50755672e-01, -1.05999788e-01,\n",
       "        -1.05999788e-01, -1.50755672e-01, -1.50755672e-01,\n",
       "        -1.50755672e-01, -1.05999788e-01, -1.05999788e-01,\n",
       "        -1.05999788e-01, -1.50755672e-01, -2.15665546e-01,\n",
       "        -1.85695338e-01, -2.15665546e-01, -2.67261242e-01,\n",
       "        -1.05999788e-01, -2.42535625e-01, -1.05999788e-01,\n",
       "        -2.15665546e-01, -1.85695338e-01, -2.15665546e-01,\n",
       "        -1.85695338e-01, -1.05999788e-01,  1.87082869e+00,\n",
       "        -1.87082869e+00,  8.35531692e-01, -8.35531692e-01,\n",
       "         1.93309133e+00, -1.93309133e+00],\n",
       "       [-1.63592675e+00, -1.16267307e+00, -6.53912840e-01,\n",
       "        -1.57589457e+00, -9.73440458e-01, -1.05999788e-01,\n",
       "        -1.05999788e-01, -6.54653671e-01, -1.05999788e-01,\n",
       "         1.81265393e+00, -2.90408935e-01, -1.85695338e-01,\n",
       "        -3.33333333e-01, -1.05999788e-01, -2.42535625e-01,\n",
       "        -4.29197538e-01,  7.97724035e-01, -5.68796459e-01,\n",
       "        -4.10890702e-01, -4.10890702e-01, -1.50755672e-01,\n",
       "        -7.97724035e-01, -1.50755672e-01, -3.92232270e-01,\n",
       "        -1.05999788e-01, -1.05999788e-01,  9.43398113e+00,\n",
       "        -1.05999788e-01, -1.05999788e-01, -1.05999788e-01,\n",
       "        -1.05999788e-01, -1.05999788e-01, -1.05999788e-01,\n",
       "        -1.05999788e-01, -1.05999788e-01, -1.05999788e-01,\n",
       "        -1.05999788e-01, -1.05999788e-01, -1.05999788e-01,\n",
       "        -1.05999788e-01, -1.05999788e-01, -1.05999788e-01,\n",
       "        -1.05999788e-01, -1.50755672e-01, -1.05999788e-01,\n",
       "        -1.05999788e-01, -1.05999788e-01, -1.05999788e-01,\n",
       "        -1.05999788e-01, -1.50755672e-01, -1.05999788e-01,\n",
       "        -1.50755672e-01, -1.50755672e-01, -1.05999788e-01,\n",
       "        -1.50755672e-01, -1.50755672e-01, -1.05999788e-01,\n",
       "        -1.05999788e-01, -1.50755672e-01, -1.50755672e-01,\n",
       "        -1.50755672e-01, -1.05999788e-01, -1.05999788e-01,\n",
       "        -1.05999788e-01, -1.50755672e-01, -2.15665546e-01,\n",
       "        -1.85695338e-01, -2.15665546e-01, -2.67261242e-01,\n",
       "        -1.05999788e-01, -2.42535625e-01, -1.05999788e-01,\n",
       "        -2.15665546e-01, -1.85695338e-01, -2.15665546e-01,\n",
       "        -1.85695338e-01, -1.05999788e-01,  1.87082869e+00,\n",
       "        -1.87082869e+00,  8.35531692e-01, -8.35531692e-01,\n",
       "         1.93309133e+00, -1.93309133e+00],\n",
       "       [-1.59743435e+00, -1.20058661e+00, -6.53912840e-01,\n",
       "        -1.57589457e+00, -9.73440458e-01, -1.05999788e-01,\n",
       "        -1.05999788e-01, -6.54653671e-01, -1.05999788e-01,\n",
       "        -5.51677284e-01, -2.90408935e-01, -1.85695338e-01,\n",
       "         3.00000000e+00, -1.05999788e-01, -2.42535625e-01,\n",
       "        -4.29197538e-01, -1.25356634e+00, -5.68796459e-01,\n",
       "         2.43373723e+00, -4.10890702e-01, -1.50755672e-01,\n",
       "        -7.97724035e-01, -1.50755672e-01, -3.92232270e-01,\n",
       "        -1.05999788e-01, -1.05999788e-01, -1.05999788e-01,\n",
       "         9.43398113e+00, -1.05999788e-01, -1.05999788e-01,\n",
       "        -1.05999788e-01, -1.05999788e-01, -1.05999788e-01,\n",
       "        -1.05999788e-01, -1.05999788e-01, -1.05999788e-01,\n",
       "        -1.05999788e-01, -1.05999788e-01, -1.05999788e-01,\n",
       "        -1.05999788e-01, -1.05999788e-01, -1.05999788e-01,\n",
       "        -1.05999788e-01, -1.50755672e-01, -1.05999788e-01,\n",
       "        -1.05999788e-01, -1.05999788e-01, -1.05999788e-01,\n",
       "        -1.05999788e-01, -1.50755672e-01, -1.05999788e-01,\n",
       "        -1.50755672e-01, -1.50755672e-01, -1.05999788e-01,\n",
       "        -1.50755672e-01, -1.50755672e-01, -1.05999788e-01,\n",
       "        -1.05999788e-01, -1.50755672e-01, -1.50755672e-01,\n",
       "        -1.50755672e-01, -1.05999788e-01, -1.05999788e-01,\n",
       "        -1.05999788e-01, -1.50755672e-01, -2.15665546e-01,\n",
       "        -1.85695338e-01, -2.15665546e-01, -2.67261242e-01,\n",
       "        -1.05999788e-01, -2.42535625e-01, -1.05999788e-01,\n",
       "        -2.15665546e-01, -1.85695338e-01, -2.15665546e-01,\n",
       "        -1.85695338e-01, -1.05999788e-01,  1.87082869e+00,\n",
       "        -1.87082869e+00,  8.35531692e-01, -8.35531692e-01,\n",
       "         1.93309133e+00, -1.93309133e+00],\n",
       "       [-1.55894196e+00, -6.28670558e-01, -6.53912840e-01,\n",
       "        -1.57589457e+00, -9.73440458e-01, -1.05999788e-01,\n",
       "        -1.05999788e-01,  1.52752523e+00, -1.05999788e-01,\n",
       "        -5.51677284e-01, -2.90408935e-01, -1.85695338e-01,\n",
       "        -3.33333333e-01, -1.05999788e-01, -2.42535625e-01,\n",
       "        -4.29197538e-01,  7.97724035e-01, -5.68796459e-01,\n",
       "        -4.10890702e-01, -4.10890702e-01, -1.50755672e-01,\n",
       "        -7.97724035e-01, -1.50755672e-01, -3.92232270e-01,\n",
       "        -1.05999788e-01, -1.05999788e-01, -1.05999788e-01,\n",
       "        -1.05999788e-01,  9.43398113e+00, -1.05999788e-01,\n",
       "        -1.05999788e-01, -1.05999788e-01, -1.05999788e-01,\n",
       "        -1.05999788e-01, -1.05999788e-01, -1.05999788e-01,\n",
       "        -1.05999788e-01, -1.05999788e-01, -1.05999788e-01,\n",
       "        -1.05999788e-01, -1.05999788e-01, -1.05999788e-01,\n",
       "        -1.05999788e-01, -1.50755672e-01, -1.05999788e-01,\n",
       "        -1.05999788e-01, -1.05999788e-01, -1.05999788e-01,\n",
       "        -1.05999788e-01, -1.50755672e-01, -1.05999788e-01,\n",
       "        -1.50755672e-01, -1.50755672e-01, -1.05999788e-01,\n",
       "        -1.50755672e-01, -1.50755672e-01, -1.05999788e-01,\n",
       "        -1.05999788e-01, -1.50755672e-01, -1.50755672e-01,\n",
       "        -1.50755672e-01, -1.05999788e-01, -1.05999788e-01,\n",
       "        -1.05999788e-01, -1.50755672e-01, -2.15665546e-01,\n",
       "        -1.85695338e-01, -2.15665546e-01, -2.67261242e-01,\n",
       "        -1.05999788e-01, -2.42535625e-01, -1.05999788e-01,\n",
       "        -2.15665546e-01, -1.85695338e-01, -2.15665546e-01,\n",
       "        -1.85695338e-01, -1.05999788e-01,  1.87082869e+00,\n",
       "        -1.87082869e+00,  8.35531692e-01, -8.35531692e-01,\n",
       "         1.93309133e+00, -1.93309133e+00]])"
      ]
     },
     "execution_count": 5,
     "metadata": {},
     "output_type": "execute_result"
    }
   ],
   "source": [
    "transform = preprocessing.StandardScaler()\n",
    "X= preprocessing.StandardScaler().fit(X).transform(X)\n",
    "X[0:5]"
   ]
  },
  {
   "cell_type": "markdown",
   "metadata": {},
   "source": [
    "For Y, create a NumPy array from the column <code>Class</code> in <code>data</code>"
   ]
  },
  {
   "cell_type": "code",
   "execution_count": 6,
   "metadata": {},
   "outputs": [
    {
     "data": {
      "text/plain": [
       "array([0, 0, 0, 0, 0], dtype=int64)"
      ]
     },
     "execution_count": 6,
     "metadata": {},
     "output_type": "execute_result"
    }
   ],
   "source": [
    "Y = data['Class'].to_numpy()\n",
    "Y[0:5]"
   ]
  },
  {
   "cell_type": "markdown",
   "metadata": {},
   "source": [
    "We split the data into training and testing data using the  function  <code>train_test_split</code>.   The training data is divided into validation data, a second set used for training  data; then the models are trained and hyperparameters are selected using the function <code>GridSearchCV</code>.\n"
   ]
  },
  {
   "cell_type": "markdown",
   "metadata": {},
   "source": [
    "## 1.2. Train_test_split\n",
    "\n",
    "Test_size 0.2 and random_state = 2"
   ]
  },
  {
   "cell_type": "code",
   "execution_count": 7,
   "metadata": {},
   "outputs": [
    {
     "name": "stdout",
     "output_type": "stream",
     "text": [
      "Train set: (72, 83) (72,)\n",
      "Test set: (18, 83) (18,)\n"
     ]
    }
   ],
   "source": [
    "X_train, X_test, Y_train, Y_test = train_test_split( X, Y, test_size=0.2, random_state=2)\n",
    "print ('Train set:', X_train.shape,  Y_train.shape)\n",
    "print ('Test set:', X_test.shape,  Y_test.shape)"
   ]
  },
  {
   "cell_type": "markdown",
   "metadata": {},
   "source": [
    "we can see we only have 18 test samples.\n"
   ]
  },
  {
   "cell_type": "markdown",
   "metadata": {},
   "source": [
    "# 2. Logistic Regression\n"
   ]
  },
  {
   "cell_type": "markdown",
   "metadata": {},
   "source": [
    "Fit the object to find the best parameters from the dictionary <code>parameters</code>, and GridSearchCV with cv = 10.  \n"
   ]
  },
  {
   "cell_type": "code",
   "execution_count": 8,
   "metadata": {},
   "outputs": [
    {
     "data": {
      "text/plain": [
       "GridSearchCV(cv=10, estimator=LogisticRegression(),\n",
       "             param_grid={'C': [0.01, 0.1, 1], 'penalty': ['l2'],\n",
       "                         'solver': ['lbfgs']})"
      ]
     },
     "execution_count": 8,
     "metadata": {},
     "output_type": "execute_result"
    }
   ],
   "source": [
    "parameters ={\"C\":[0.01,0.1,1],'penalty':['l2'], 'solver':['lbfgs']}\n",
    "lr=LogisticRegression()\n",
    "logreg_cv = GridSearchCV(lr, parameters,cv=10)\n",
    "logreg_cv.fit(X_train, Y_train)"
   ]
  },
  {
   "cell_type": "markdown",
   "metadata": {},
   "source": [
    "Display the best parameters using the data attribute <code>best_params\\_</code> and the accuracy on the validation data using the data attribute <code>best_score\\_</code>.\n"
   ]
  },
  {
   "cell_type": "code",
   "execution_count": 9,
   "metadata": {},
   "outputs": [
    {
     "name": "stdout",
     "output_type": "stream",
     "text": [
      "tuned hpyerparameters :(best parameters)  {'C': 0.01, 'penalty': 'l2', 'solver': 'lbfgs'}\n",
      "accuracy : 0.8464285714285713\n"
     ]
    }
   ],
   "source": [
    "print(\"tuned hpyerparameters :(best parameters) \",logreg_cv.best_params_)\n",
    "print(\"accuracy :\",logreg_cv.best_score_)"
   ]
  },
  {
   "cell_type": "markdown",
   "metadata": {},
   "source": [
    "Confusion Matrix"
   ]
  },
  {
   "cell_type": "code",
   "execution_count": 10,
   "metadata": {},
   "outputs": [
    {
     "data": {
      "image/png": "[encoded data removed]",
      "text/plain": [
       "<Figure size 432x288 with 2 Axes>"
      ]
     },
     "metadata": {
      "needs_background": "light"
     },
     "output_type": "display_data"
    }
   ],
   "source": [
    "yhat=logreg_cv.predict(X_test)\n",
    "plot_confusion_matrix(Y_test,yhat)"
   ]
  },
  {
   "cell_type": "markdown",
   "metadata": {},
   "source": [
    "Confusion Matrix indicates that logistic-regression can distinguish between the different classes, but with false positives."
   ]
  },
  {
   "cell_type": "markdown",
   "metadata": {},
   "source": [
    "# 3. Support Vector Machine\n"
   ]
  },
  {
   "cell_type": "code",
   "execution_count": 11,
   "metadata": {},
   "outputs": [],
   "source": [
    "parameters = {'kernel':('linear', 'rbf','poly','rbf', 'sigmoid'),\n",
    "              'C': np.logspace(-3, 3, 5),\n",
    "              'gamma':np.logspace(-3, 3, 5)}\n",
    "svm = SVC()"
   ]
  },
  {
   "cell_type": "code",
   "execution_count": 12,
   "metadata": {},
   "outputs": [
    {
     "data": {
      "text/plain": [
       "GridSearchCV(cv=10, estimator=SVC(),\n",
       "             param_grid={'C': array([1.00000000e-03, 3.16227766e-02, 1.00000000e+00, 3.16227766e+01,\n",
       "       1.00000000e+03]),\n",
       "                         'gamma': array([1.00000000e-03, 3.16227766e-02, 1.00000000e+00, 3.16227766e+01,\n",
       "       1.00000000e+03]),\n",
       "                         'kernel': ('linear', 'rbf', 'poly', 'rbf', 'sigmoid')})"
      ]
     },
     "execution_count": 12,
     "metadata": {},
     "output_type": "execute_result"
    }
   ],
   "source": [
    "svm_cv = GridSearchCV(svm, parameters,cv=10)\n",
    "svm_cv.fit(X_train, Y_train)"
   ]
  },
  {
   "cell_type": "code",
   "execution_count": 13,
   "metadata": {},
   "outputs": [
    {
     "name": "stdout",
     "output_type": "stream",
     "text": [
      "tuned hpyerparameters :(best parameters)  {'C': 1.0, 'gamma': 0.03162277660168379, 'kernel': 'sigmoid'}\n",
      "accuracy : 0.8482142857142856\n"
     ]
    }
   ],
   "source": [
    "print(\"tuned hpyerparameters :(best parameters) \",svm_cv.best_params_)\n",
    "print(\"accuracy :\",svm_cv.best_score_)"
   ]
  },
  {
   "cell_type": "markdown",
   "metadata": {},
   "source": [
    "Calculate the accuracy on the test data using the method <code>score</code>:\n"
   ]
  },
  {
   "cell_type": "code",
   "execution_count": 14,
   "metadata": {},
   "outputs": [
    {
     "data": {
      "text/plain": [
       "0.8333333333333334"
      ]
     },
     "execution_count": 14,
     "metadata": {},
     "output_type": "execute_result"
    }
   ],
   "source": [
    "svm_cv.score(X_test, Y_test)"
   ]
  },
  {
   "cell_type": "markdown",
   "metadata": {},
   "source": [
    "Confusion Matrix"
   ]
  },
  {
   "cell_type": "code",
   "execution_count": 15,
   "metadata": {},
   "outputs": [
    {
     "data": {
      "image/png": "[encoded data removed]",
      "text/plain": [
       "<Figure size 432x288 with 2 Axes>"
      ]
     },
     "metadata": {
      "needs_background": "light"
     },
     "output_type": "display_data"
    }
   ],
   "source": [
    "yhat=svm_cv.predict(X_test)\n",
    "plot_confusion_matrix(Y_test,yhat)"
   ]
  },
  {
   "cell_type": "markdown",
   "metadata": {},
   "source": [
    "# 4. Decision Tree "
   ]
  },
  {
   "cell_type": "code",
   "execution_count": 16,
   "metadata": {},
   "outputs": [],
   "source": [
    "parameters = {'criterion': ['gini', 'entropy'],\n",
    "     'splitter': ['best', 'random'],\n",
    "     'max_depth': [2*n for n in range(1,10)],\n",
    "     'max_features': ['auto', 'sqrt'],\n",
    "     'min_samples_leaf': [1, 2, 4],\n",
    "     'min_samples_split': [2, 5, 10]}\n",
    "\n",
    "tree = DecisionTreeClassifier()"
   ]
  },
  {
   "cell_type": "code",
   "execution_count": 17,
   "metadata": {},
   "outputs": [
    {
     "data": {
      "text/plain": [
       "GridSearchCV(cv=10, estimator=DecisionTreeClassifier(),\n",
       "             param_grid={'criterion': ['gini', 'entropy'],\n",
       "                         'max_depth': [2, 4, 6, 8, 10, 12, 14, 16, 18],\n",
       "                         'max_features': ['auto', 'sqrt'],\n",
       "                         'min_samples_leaf': [1, 2, 4],\n",
       "                         'min_samples_split': [2, 5, 10],\n",
       "                         'splitter': ['best', 'random']})"
      ]
     },
     "execution_count": 17,
     "metadata": {},
     "output_type": "execute_result"
    }
   ],
   "source": [
    "tree_cv = GridSearchCV(tree, parameters,cv=10)\n",
    "tree_cv.fit(X_train, Y_train)"
   ]
  },
  {
   "cell_type": "code",
   "execution_count": 18,
   "metadata": {},
   "outputs": [
    {
     "name": "stdout",
     "output_type": "stream",
     "text": [
      "tuned hpyerparameters :(best parameters)  {'criterion': 'entropy', 'max_depth': 4, 'max_features': 'sqrt', 'min_samples_leaf': 2, 'min_samples_split': 10, 'splitter': 'random'}\n",
      "accuracy : 0.875\n"
     ]
    }
   ],
   "source": [
    "print(\"tuned hpyerparameters :(best parameters) \",tree_cv.best_params_)\n",
    "print(\"accuracy :\",tree_cv.best_score_)"
   ]
  },
  {
   "cell_type": "markdown",
   "metadata": {},
   "source": [
    "Calculate the accuracy of tree_cv on the test data using the method <code>score</code>:\n"
   ]
  },
  {
   "cell_type": "code",
   "execution_count": 19,
   "metadata": {},
   "outputs": [
    {
     "data": {
      "text/plain": [
       "0.8333333333333334"
      ]
     },
     "execution_count": 19,
     "metadata": {},
     "output_type": "execute_result"
    }
   ],
   "source": [
    "tree_cv.score(X_test, Y_test)"
   ]
  },
  {
   "cell_type": "markdown",
   "metadata": {},
   "source": [
    "Confusion Matrix"
   ]
  },
  {
   "cell_type": "code",
   "execution_count": 20,
   "metadata": {},
   "outputs": [
    {
     "data": {
      "image/png": "[encoded data removed]",
      "text/plain": [
       "<Figure size 432x288 with 2 Axes>"
      ]
     },
     "metadata": {
      "needs_background": "light"
     },
     "output_type": "display_data"
    }
   ],
   "source": [
    "yhat = tree_cv.predict(X_test)\n",
    "plot_confusion_matrix(Y_test,yhat)"
   ]
  },
  {
   "cell_type": "markdown",
   "metadata": {},
   "source": [
    "# 5. K-Nearest-Neighbors (KNN) "
   ]
  },
  {
   "cell_type": "code",
   "execution_count": 21,
   "metadata": {},
   "outputs": [],
   "source": [
    "parameters = {'n_neighbors': [1, 2, 3, 4, 5, 6, 7, 8, 9, 10],\n",
    "              'algorithm': ['auto', 'ball_tree', 'kd_tree', 'brute'],\n",
    "              'p': [1,2]}\n",
    "\n",
    "KNN = KNeighborsClassifier()"
   ]
  },
  {
   "cell_type": "code",
   "execution_count": 22,
   "metadata": {},
   "outputs": [
    {
     "data": {
      "text/plain": [
       "GridSearchCV(cv=10, estimator=KNeighborsClassifier(),\n",
       "             param_grid={'algorithm': ['auto', 'ball_tree', 'kd_tree', 'brute'],\n",
       "                         'n_neighbors': [1, 2, 3, 4, 5, 6, 7, 8, 9, 10],\n",
       "                         'p': [1, 2]})"
      ]
     },
     "execution_count": 22,
     "metadata": {},
     "output_type": "execute_result"
    }
   ],
   "source": [
    "knn_cv = GridSearchCV(KNN, parameters,cv=10)\n",
    "knn_cv.fit(X_train, Y_train)"
   ]
  },
  {
   "cell_type": "code",
   "execution_count": 23,
   "metadata": {},
   "outputs": [
    {
     "name": "stdout",
     "output_type": "stream",
     "text": [
      "tuned hpyerparameters :(best parameters)  {'algorithm': 'auto', 'n_neighbors': 10, 'p': 1}\n",
      "accuracy : 0.8482142857142858\n"
     ]
    }
   ],
   "source": [
    "print(\"tuned hpyerparameters :(best parameters) \",knn_cv.best_params_)\n",
    "print(\"accuracy :\",knn_cv.best_score_)"
   ]
  },
  {
   "cell_type": "markdown",
   "metadata": {},
   "source": [
    "Calculate the accuracy of tree_cv on the test data using the method <code>score</code>:\n"
   ]
  },
  {
   "cell_type": "code",
   "execution_count": 24,
   "metadata": {},
   "outputs": [
    {
     "data": {
      "text/plain": [
       "0.8333333333333334"
      ]
     },
     "execution_count": 24,
     "metadata": {},
     "output_type": "execute_result"
    }
   ],
   "source": [
    "knn_cv.score(X_test, Y_test)"
   ]
  },
  {
   "cell_type": "markdown",
   "metadata": {},
   "source": [
    "Confusion Matrix"
   ]
  },
  {
   "cell_type": "code",
   "execution_count": 25,
   "metadata": {},
   "outputs": [
    {
     "data": {
      "image/png": "[encoded data removed]",
      "text/plain": [
       "<Figure size 432x288 with 2 Axes>"
      ]
     },
     "metadata": {
      "needs_background": "light"
     },
     "output_type": "display_data"
    }
   ],
   "source": [
    "yhat = knn_cv.predict(X_test)\n",
    "plot_confusion_matrix(Y_test,yhat)"
   ]
  },
  {
   "cell_type": "markdown",
   "metadata": {},
   "source": [
    "# 6. Plotting which method performs best"
   ]
  },
  {
   "cell_type": "code",
   "execution_count": 26,
   "metadata": {},
   "outputs": [
    {
     "name": "stdout",
     "output_type": "stream",
     "text": [
      "Logistic Regression best parameters: {'C': 0.01, 'penalty': 'l2', 'solver': 'lbfgs'}\n",
      "Logistic Regression accuracy : 0.8464285714285713\n",
      "Logistic Regression score : 0.8333333333333334\n",
      "SVM best parameters: {'C': 1.0, 'gamma': 0.03162277660168379, 'kernel': 'sigmoid'}\n",
      "SVM accuracy : 0.8482142857142856\n",
      "SVM score : 0.8333333333333334\n",
      "Decision-Tree: best parameters: {'criterion': 'entropy', 'max_depth': 4, 'max_features': 'sqrt', 'min_samples_leaf': 2, 'min_samples_split': 10, 'splitter': 'random'}\n",
      "Decision-Tree accuracy : 0.875\n",
      "Decision-Tree score : 0.8333333333333334\n",
      "KNN best parameters: {'algorithm': 'auto', 'n_neighbors': 10, 'p': 1}\n",
      "KNN accuracy : 0.8482142857142858\n",
      "KNN score : 0.8333333333333334\n"
     ]
    }
   ],
   "source": [
    "print(\"Logistic Regression best parameters:\",logreg_cv.best_params_)\n",
    "print(\"Logistic Regression accuracy :\",logreg_cv.best_score_)\n",
    "print(\"Logistic Regression score :\", logreg_cv.score(X_test, Y_test))\n",
    "\n",
    "print(\"SVM best parameters:\",svm_cv.best_params_)\n",
    "print(\"SVM accuracy :\",svm_cv.best_score_)\n",
    "print(\"SVM score :\", svm_cv.score(X_test, Y_test))\n",
    "\n",
    "print(\"Decision-Tree: best parameters:\",tree_cv.best_params_)\n",
    "print(\"Decision-Tree accuracy :\",tree_cv.best_score_)\n",
    "print(\"Decision-Tree score :\", tree_cv.score(X_test, Y_test))\n",
    "\n",
    "print(\"KNN best parameters:\",knn_cv.best_params_)\n",
    "print(\"KNN accuracy :\",knn_cv.best_score_)\n",
    "print(\"KNN score :\", knn_cv.score(X_test, Y_test))"
   ]
  },
  {
   "cell_type": "code",
   "execution_count": 27,
   "metadata": {},
   "outputs": [
    {
     "name": "stdout",
     "output_type": "stream",
     "text": [
      "[0.8464285714285713, 0.8482142857142856, 0.8482142857142858, 0.875] ['Logistic Regression', 'Support Vector Machine', 'KNN', 'Decision Tree']\n"
     ]
    }
   ],
   "source": [
    "model_accuracy = []\n",
    "model_name = []\n",
    "model_accuracy.append(logreg_cv.best_score_)\n",
    "model_name.append('Logistic Regression')\n",
    "model_accuracy.append(svm_cv.best_score_)\n",
    "model_name.append('Support Vector Machine')\n",
    "model_accuracy.append(knn_cv.best_score_)\n",
    "model_name.append('KNN')\n",
    "model_accuracy.append(tree_cv.best_score_)\n",
    "model_name.append('Decision Tree')\n",
    "print(model_accuracy, model_name)"
   ]
  },
  {
   "cell_type": "code",
   "execution_count": 28,
   "metadata": {},
   "outputs": [
    {
     "data": {
      "image/png": "[encoded data removed]",
      "text/plain": [
       "<Figure size 648x216 with 1 Axes>"
      ]
     },
     "metadata": {
      "needs_background": "light"
     },
     "output_type": "display_data"
    }
   ],
   "source": [
    "plt.figure(figsize=(9, 3))\n",
    "plt.bar(model_name, model_accuracy)\n",
    "plt.xlabel('4 Models') \n",
    "plt.ylabel('Best score') \n",
    "plt.title('All models have roughly the same accuracy, with Tree fares slightly better') # add title to the plot\n",
    "plt.show()"
   ]
  }
 ],
 "metadata": {
  "kernelspec": {
   "display_name": "Python 3 (ipykernel)",
   "language": "python",
   "name": "python3"
  },
  "language_info": {
   "codemirror_mode": {
    "name": "ipython",
    "version": 3
   },
   "file_extension": ".py",
   "mimetype": "text/x-python",
   "name": "python",
   "nbconvert_exporter": "python",
   "pygments_lexer": "ipython3",
   "version": "3.9.7"
  }
 },
 "nbformat": 4,
 "nbformat_minor": 4
}
